{
 "cells": [
  {
   "cell_type": "markdown",
   "metadata": {
    "toc": "true"
   },
   "source": [
    " # Table of Contents\n",
    "<div class=\"toc\" style=\"margin-top: 1em;\"><ul class=\"toc-item\" id=\"toc-level0\"><li><span><a href=\"http://localhost:8890/notebooks/Transform%20Street%20Names.ipynb#Approach-to-transforming-and-auditing-street-names\" data-toc-modified-id=\"Approach-to-transforming-and-auditing-street-names-1\"><span class=\"toc-item-num\">1&nbsp;&nbsp;</span>Approach to transforming and auditing street names</a></span></li><li><span><a href=\"http://localhost:8890/notebooks/Transform%20Street%20Names.ipynb#Define-structure-for-street-names\" data-toc-modified-id=\"Define-structure-for-street-names-2\"><span class=\"toc-item-num\">2&nbsp;&nbsp;</span>Define structure for street names</a></span></li><li><span><a href=\"http://localhost:8890/notebooks/Transform%20Street%20Names.ipynb#Transform-street-names\" data-toc-modified-id=\"Transform-street-names-3\"><span class=\"toc-item-num\">3&nbsp;&nbsp;</span>Transform street names</a></span></li><li><span><a href=\"http://localhost:8890/notebooks/Transform%20Street%20Names.ipynb#Validate-transformed-street-names-against-the-defined-structure\" data-toc-modified-id=\"Validate-transformed-street-names-against-the-defined-structure-4\"><span class=\"toc-item-num\">4&nbsp;&nbsp;</span>Validate transformed street names against the defined structure</a></span></li></ul></div>"
   ]
  },
  {
   "cell_type": "markdown",
   "metadata": {},
   "source": [
    "## Approach to transforming and auditing street names\n",
    "\n",
    "1. Establish assumptions about the data. We might assume that all the roads end with a particular suffix, or have a certain convention.\n",
    "1. Transform the street names.\n",
    "1. Validate the transformed street names against the assumptions in step 1.\n",
    "1. Recursively follow steps 1 to 3 to get everything audited."
   ]
  },
  {
   "cell_type": "markdown",
   "metadata": {},
   "source": [
    "## Define structure for street names"
   ]
  },
  {
   "cell_type": "markdown",
   "metadata": {},
   "source": [
    "## Transform street names"
   ]
  },
  {
   "cell_type": "markdown",
   "metadata": {},
   "source": [
    "## Validate transformed street names against the defined structure"
   ]
  },
  {
   "cell_type": "code",
   "execution_count": null,
   "metadata": {
    "collapsed": true
   },
   "outputs": [],
   "source": []
  }
 ],
 "metadata": {
  "kernelspec": {
   "display_name": "Python 2",
   "language": "python",
   "name": "python2"
  },
  "language_info": {
   "codemirror_mode": {
    "name": "ipython",
    "version": 2
   },
   "file_extension": ".py",
   "mimetype": "text/x-python",
   "name": "python",
   "nbconvert_exporter": "python",
   "pygments_lexer": "ipython2",
   "version": "2.7.13"
  },
  "toc": {
   "nav_menu": {},
   "number_sections": true,
   "sideBar": true,
   "skip_h1_title": true,
   "toc_cell": true,
   "toc_position": {},
   "toc_section_display": "block",
   "toc_window_display": false
  }
 },
 "nbformat": 4,
 "nbformat_minor": 2
}
