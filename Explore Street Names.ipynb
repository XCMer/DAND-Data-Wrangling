{
 "cells": [
  {
   "cell_type": "markdown",
   "metadata": {
    "toc": "true"
   },
   "source": [
    " # Table of Contents\n",
    "<div class=\"toc\" style=\"margin-top: 1em;\"><ul class=\"toc-item\" id=\"toc-level0\"><li><span><a href=\"http://localhost:8890/notebooks/Explore%20Street%20Names.ipynb#Load-street-names\" data-toc-modified-id=\"Load-street-names-1\"><span class=\"toc-item-num\">1&nbsp;&nbsp;</span>Load street names</a></span></li><li><span><a href=\"http://localhost:8890/notebooks/Explore%20Street%20Names.ipynb#Explore-a-few-random-streets\" data-toc-modified-id=\"Explore-a-few-random-streets-2\"><span class=\"toc-item-num\">2&nbsp;&nbsp;</span>Explore a few random streets</a></span></li><li><span><a href=\"http://localhost:8890/notebooks/Explore%20Street%20Names.ipynb#Types-of-street-names\" data-toc-modified-id=\"Types-of-street-names-3\"><span class=\"toc-item-num\">3&nbsp;&nbsp;</span>Types of street names</a></span><ul class=\"toc-item\"><li><span><a href=\"http://localhost:8890/notebooks/Explore%20Street%20Names.ipynb#With-proper-suffixes\" data-toc-modified-id=\"With-proper-suffixes-3.1\"><span class=\"toc-item-num\">3.1&nbsp;&nbsp;</span>With proper suffixes</a></span></li><li><span><a href=\"http://localhost:8890/notebooks/Explore%20Street%20Names.ipynb#Full-addresses-instead-of-street-names\" data-toc-modified-id=\"Full-addresses-instead-of-street-names-3.2\"><span class=\"toc-item-num\">3.2&nbsp;&nbsp;</span>Full addresses instead of street names</a></span></li><li><span><a href=\"http://localhost:8890/notebooks/Explore%20Street%20Names.ipynb#Street-names-with-alternate-names\" data-toc-modified-id=\"Street-names-with-alternate-names-3.3\"><span class=\"toc-item-num\">3.3&nbsp;&nbsp;</span>Street names with alternate names</a></span></li><li><span><a href=\"http://localhost:8890/notebooks/Explore%20Street%20Names.ipynb#Nodes-masquerading-to-be-street-names\" data-toc-modified-id=\"Nodes-masquerading-to-be-street-names-3.4\"><span class=\"toc-item-num\">3.4&nbsp;&nbsp;</span>Nodes masquerading to be street names</a></span></li></ul></li></ul></div>"
   ]
  },
  {
   "cell_type": "code",
   "execution_count": 3,
   "metadata": {
    "collapsed": true
   },
   "outputs": [],
   "source": [
    "from util import load_data\n",
    "import random"
   ]
  },
  {
   "cell_type": "markdown",
   "metadata": {},
   "source": [
    "## Load street names\n",
    "\n",
    "Load street names from the file. We don't have to parse the XML repeatedly to get it, so it's easy to play around with the data."
   ]
  },
  {
   "cell_type": "code",
   "execution_count": 2,
   "metadata": {
    "collapsed": true
   },
   "outputs": [],
   "source": [
    "street_names = load_data('street_names')"
   ]
  },
  {
   "cell_type": "markdown",
   "metadata": {},
   "source": [
    "## Explore a few random streets\n",
    "\n",
    "Just to get a feel for how the street names are structured, let's explore a random sample."
   ]
  },
  {
   "cell_type": "code",
   "execution_count": 5,
   "metadata": {
    "scrolled": true
   },
   "outputs": [
    {
     "data": {
      "text/plain": [
       "['Kharghar Station Road',\n",
       " 'str',\n",
       " 'Saras Baug',\n",
       " 'Dominic Lane, Orlem Malad',\n",
       " 'M G Road',\n",
       " 'Kolshet Road',\n",
       " 'NL Rd',\n",
       " 'Dr Baba Saheb Ambedkar Marg (Victoria Garden Road)',\n",
       " 'Hindcycle Road, Worli, Mumbai',\n",
       " 'CIVIC Central Road',\n",
       " 'Ghodbunder Baug Road, Ghodbunder Village',\n",
       " 'Vallabh Baug lane',\n",
       " 'Rebello Road',\n",
       " 'Acharya Anand Rushi Marg',\n",
       " 'Kirol Road, Off LBS Marg, Patelwadi',\n",
       " 'Vidhan Bhavan',\n",
       " 'N M Joshi Marg (Delsle Road)',\n",
       " 'Aramnagar Part 1, Versova',\n",
       " 'Ghansoli',\n",
       " 'Balraj Sahni Rd',\n",
       " 'Grand Road',\n",
       " 'Off Yari Road',\n",
       " 'Police Officers Progressive Co-operative Housing Society',\n",
       " 'Charat Singh Colony Road',\n",
       " 'Navghar Road',\n",
       " 'S Central Road',\n",
       " '22nd Road',\n",
       " 'JK Sawant Marg,',\n",
       " 'Bellasis Road',\n",
       " 'Shahid Mangal Pandey Rd',\n",
       " 'New Marine Lines',\n",
       " 'IA Project Road',\n",
       " 'Goshala Road',\n",
       " 'Bandra Kurla Complex Road',\n",
       " 'Western Express Highway',\n",
       " 'Andheri Link Road',\n",
       " 'railway Colony Road',\n",
       " 'Mumbai Agra National Highway',\n",
       " 'Kamothe main road',\n",
       " 'Mumbai - Pune Road',\n",
       " 'Bhakti Vedanta Swami Marg',\n",
       " 'Indradarshan Crossroad',\n",
       " 'Sardar Gurucharan Singh Kocher Marg',\n",
       " 'Shastri Nagar, Dombivli West Dombivli, Maharashtra 421202',\n",
       " 'saba road',\n",
       " 'K C Marg',\n",
       " 'Eksar Road',\n",
       " '26th Road (Sumatilal Manilal Shah Marg)',\n",
       " 'CITIZEN STREET',\n",
       " 'Bal Govind Das Road',\n",
       " 'Niedersachsenring',\n",
       " 'Juhu Lane',\n",
       " 'Dr. Annie Besant Road',\n",
       " 'Om Nagar Road',\n",
       " 'Lal Bahadur Shastri Marg',\n",
       " 'M Khana Road',\n",
       " 'M.G.Rd. & Hanuman Road',\n",
       " 'Ghatkopar FOB',\n",
       " 'YMCA Road (Club Back Road)',\n",
       " 'Mangesh Shenoy Street',\n",
       " 'Sumer castle',\n",
       " 'St Dominic Street;7th Road',\n",
       " \"St. Martin's Road\",\n",
       " 'Vishnu Nagar Rd',\n",
       " 'Tungareshwar Road',\n",
       " 'Bandra Kurla Complex, Off Western Express Highway',\n",
       " 'Adi Shankaracharya Marg',\n",
       " 'Chintamani Chowk',\n",
       " 'Asalpha',\n",
       " 'B Road',\n",
       " 'H.N.A azmi marg',\n",
       " 'Hanuman Road,M.g. Road',\n",
       " '9 A nerul, Uran Road, Sector 19A, Nerul, Navi Mumbai,',\n",
       " 'Central Avenue',\n",
       " ', Naveketan Industrial Estate, Mahakali Caves Road',\n",
       " 'Tata Nagar Road',\n",
       " \"St. Anne's Lane\",\n",
       " 'Walji Ladha Road',\n",
       " 'Jivdani Road',\n",
       " 'Plot No 24, Off J.P Road, 7 Bungalows, Andheri West',\n",
       " 'JBM Road',\n",
       " 'Satya Nagar',\n",
       " 'Road Number 3',\n",
       " 'IIT Bombay',\n",
       " 'Lions Sol Marg',\n",
       " '90/ A, Near Holy Family Hospital, Hill Rd, Bandra West, Mumbai, Maharashtra',\n",
       " 'Gulmohar Road',\n",
       " 'Krishna Changa Naik Marg',\n",
       " 'Sector 6 Market',\n",
       " 'General Arun Kumar Vaidya Nagar',\n",
       " 'Gopal Krushna Gokhale Marg',\n",
       " '17th Road',\n",
       " 'Rd S',\n",
       " 'Swatantrya Veer Savarkar Marg',\n",
       " 'Senapati Bapat Marg',\n",
       " 'Sahar',\n",
       " 'Atmaram Bhoir Marg',\n",
       " 'Yogiraj street',\n",
       " 'Saki Naka',\n",
       " 'Dr BR Ambedkar Road, Bandra West']"
      ]
     },
     "execution_count": 5,
     "metadata": {},
     "output_type": "execute_result"
    }
   ],
   "source": [
    "random.seed(0)\n",
    "random.sample(street_names, 100)"
   ]
  },
  {
   "cell_type": "code",
   "execution_count": 6,
   "metadata": {},
   "outputs": [
    {
     "data": {
      "text/plain": [
       "['Nathalal M. Parikh Road (Wodehouse Road)',\n",
       " 'Gulmohar Road (NS Road No 1)',\n",
       " 'Shrikant Dhadwe Road',\n",
       " 'Rajarambane Marg',\n",
       " 'Tejpal Scheme Road',\n",
       " '90 feet road',\n",
       " 'Prabhat colony',\n",
       " 'Nerul, Navi Mumbai,  Sector No 19 A',\n",
       " 'Balaji Mandir Road',\n",
       " 'Road No 4',\n",
       " 'Kolsewadi',\n",
       " 'A Wing, Abhishek Co Operative Housing Society, Santacruz Eas',\n",
       " 'Shahid Bhagat Singh Marg',\n",
       " 'Vishnu Nagar Rd',\n",
       " 'N M Joshi Marg',\n",
       " 'Kailash Esplanade, LBS marg',\n",
       " 'Tukaram Javji Marg',\n",
       " 'Andheri Kurla Road',\n",
       " 'V. N. Purav Marg',\n",
       " 'mohammed ali chawl',\n",
       " '212 Pali Market Road',\n",
       " \"St John's Street, Bandra West\",\n",
       " 'Ram Singh Road',\n",
       " 'B Cabin Road',\n",
       " 'Veer Savarkar Rd (gavthan road)',\n",
       " 'Manish Nagar',\n",
       " 'Asha Nagar Road',\n",
       " 'Sulochana Shetty Marg',\n",
       " 'Raja Ram Mohan Roy Road (Charni Road)',\n",
       " 'Senapati Bapat Marg (Tulsi Pipe Road)',\n",
       " 'Vidyalaya Marg',\n",
       " 'vidyarthi marg',\n",
       " 'Chintamani Chowk',\n",
       " 'Mathew Road',\n",
       " '23rd Road',\n",
       " 'Elphinstone Bridge',\n",
       " 'Keshavrao Khadye Marg',\n",
       " ', Rizvi Park, S V Road, Santacruz West',\n",
       " 'Retibandar, Ghodbunder, Mira Bhayandar',\n",
       " 'govandi',\n",
       " 'Ramchandra Gali',\n",
       " 'Dr BR Ambedkar Road, Bandra West',\n",
       " 'Saint Leos Road',\n",
       " 'Laxman Umaji Gadkari Marg',\n",
       " 'J.P Road, 7 Bungalows, Andheri West',\n",
       " 'gokul marg',\n",
       " 'NL Rd',\n",
       " \"St. Martin's Road\",\n",
       " 'bachoo motors tardeo ',\n",
       " 'Sahakar Nagar lane',\n",
       " 'Panvel Bypass Uran Road',\n",
       " 'Road Number 2',\n",
       " '4, Lokhandwala Complex Rd, Shastri Nagar, Andheri West',\n",
       " 'Jagnnath Mandir Road',\n",
       " 'Bhandup Village Road',\n",
       " 'Road No 5',\n",
       " 'millat nagar',\n",
       " 'Goshala Road',\n",
       " 'Goregaon West',\n",
       " 'New Link Road, Andheri West',\n",
       " 'Sona Villa Sector 21',\n",
       " 'Chendani koliwada',\n",
       " 'Dr. Annie Besant Road',\n",
       " 'Sector 21',\n",
       " 'jivedaya lane',\n",
       " 'Kanjur Village Road',\n",
       " 'Shahid Bhagat Singh Marg (Lower Colaba Road)',\n",
       " 'Chhatrapati Shivaji Road Number 4',\n",
       " 'Hathayogi nikam guruji marg',\n",
       " 'N Bharucha Marg',\n",
       " 'Maitri Tower,Louiswadi,Thane West',\n",
       " 'Hiranandani Estate',\n",
       " 'Amit Keshav Nayak Marg',\n",
       " 'Mulshi Road',\n",
       " 'N M Joshi Marg (Delsle Road)',\n",
       " \"P.D'Mello Road\",\n",
       " 'Near Dukes Factory, Waman Tukaram Patil Marg (Ghatkopar Sewri Wadala Road), Deonar',\n",
       " 'mohmmad road',\n",
       " 'Goregaon Mulund Link Road',\n",
       " 'Gulmohar Cross Road No 9',\n",
       " 'Boman Behram Road (Mere Weather Road)',\n",
       " 'P Tandon Marg',\n",
       " 'Naya Nagar Road',\n",
       " 'Cosmopolitan Education Society Marg',\n",
       " 'Sarang Street',\n",
       " 'Scheme 57 Road no.10',\n",
       " 'Kolshet Road',\n",
       " 'D Saraswati Marg (Central Avenue)',\n",
       " '21st Road',\n",
       " 'Station Road',\n",
       " 'Upvan Lake Road',\n",
       " '25th Road',\n",
       " 'G.D. Ambedkar Marg',\n",
       " 'Cheeta Camp Market Road',\n",
       " 'amruta',\n",
       " 'Shastri Nagar, Dombivli West Dombivli, Maharashtra 421202',\n",
       " 'Gladys Alwares Road',\n",
       " '4, Lolkhandwala Complex Road',\n",
       " 'Ghodbunder Baug Road, Ghodbunder Village',\n",
       " 'Sector 50']"
      ]
     },
     "execution_count": 6,
     "metadata": {},
     "output_type": "execute_result"
    }
   ],
   "source": [
    "random.seed(1)\n",
    "random.sample(street_names, 100)"
   ]
  },
  {
   "cell_type": "markdown",
   "metadata": {},
   "source": [
    "## Types of street names"
   ]
  },
  {
   "cell_type": "markdown",
   "metadata": {},
   "source": [
    "### With proper suffixes\n",
    "\n",
    "Example streets names:\n",
    "1. Bal Govind Das Road\n",
    "1. St. Anne's Lane\n",
    "1. Saki Naka\n",
    "1. Gopal Krushna Gokhale Marg\n",
    "\n",
    "These are street names with:\n",
    "1. A proper suffix that might have to be normalized\n",
    "1. No other unwanted artifacts"
   ]
  },
  {
   "cell_type": "markdown",
   "metadata": {},
   "source": [
    "### Full addresses instead of street names\n",
    "\n",
    "Example street names:\n",
    "1. 90/ A, Near Holy Family Hospital, Hill Rd, Bandra West, Mumbai, Maharashtra\n",
    "1. Dr BR Ambedkar Road, Bandra West\n",
    "1. , Naveketan Industrial Estate, Mahakali Caves Road\n",
    "1. Kirol Road, Off LBS Marg, Patelwadi\n",
    "\n",
    "Here, we're only interested in the street names, which are respectively:\n",
    "1. Hill Rd\n",
    "1. Dr BR Ambedkar Road\n",
    "1. Mahakali Caves Road\n",
    "1. Kirol Road"
   ]
  },
  {
   "cell_type": "markdown",
   "metadata": {},
   "source": [
    "### Street names with alternate names\n",
    "\n",
    "Example street names:\n",
    "1. YMCA Road (Club Back Road)\n",
    "1. 26th Road (Sumatilal Manilal Shah Marg)\n",
    "\n",
    "These will be kept as it is."
   ]
  },
  {
   "cell_type": "markdown",
   "metadata": {},
   "source": [
    "### Nodes masquerading to be street names\n",
    "\n",
    "Example street names:\n",
    "1. Bandra Kurla Complex, Off Western Express Highway\n",
    "1. IIT Bombay\n",
    "1. Asalpha\n",
    "\n",
    "However, these nodes are landmarks and best represent the surrounding streets. Hence, apart from cleaning them up, no other changes are required."
   ]
  },
  {
   "cell_type": "code",
   "execution_count": null,
   "metadata": {
    "collapsed": true
   },
   "outputs": [],
   "source": []
  }
 ],
 "metadata": {
  "kernelspec": {
   "display_name": "Python 2",
   "language": "python",
   "name": "python2"
  },
  "language_info": {
   "codemirror_mode": {
    "name": "ipython",
    "version": 2
   },
   "file_extension": ".py",
   "mimetype": "text/x-python",
   "name": "python",
   "nbconvert_exporter": "python",
   "pygments_lexer": "ipython2",
   "version": "2.7.13"
  },
  "toc": {
   "nav_menu": {},
   "number_sections": true,
   "sideBar": true,
   "skip_h1_title": true,
   "toc_cell": true,
   "toc_position": {},
   "toc_section_display": "block",
   "toc_window_display": false
  }
 },
 "nbformat": 4,
 "nbformat_minor": 2
}
